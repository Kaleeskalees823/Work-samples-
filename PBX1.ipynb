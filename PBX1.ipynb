{
  "nbformat": 4,
  "nbformat_minor": 0,
  "metadata": {
    "colab": {
      "provenance": []
    },
    "kernelspec": {
      "name": "python3",
      "display_name": "Python 3"
    },
    "language_info": {
      "name": "python"
    }
  },
  "cells": [
    {
      "cell_type": "code",
      "execution_count": 2,
      "metadata": {
        "id": "H5UL8XecwQmK"
      },
      "outputs": [],
      "source": [
        "import pandas as pd\n",
        "import datetime\n",
        "\n",
        "df = pd.read_csv(\"/content/input.csv\")\n",
        "\n",
        "df[\"Last_Compensation\"] = \"\"\n",
        "df[\"Last_Pay_Raise_Date\"] = \"\"\n",
        "df[\"Variable_Pay\"] = \"\"\n",
        "df[\"Tenure_in_Org\"] = \"\"\n",
        "df[\"Performance_Rating\"] = \"\"\n",
        "df[\"Engagement_Score\"] = \"\"\n",
        "df[\"Effective_Date\"] = \"\"\n",
        "df[\"End_Date\"] = \"\"\n",
        "\n",
        "for index, row in df.iterrows():\n",
        "    current_compensation = row[\"Compensation\"]\n",
        "    current_lcompensation = row[\"Compensation 2\"]\n",
        "    current_lpayrasiday = row[\"Compensation 2 date\"]\n",
        "    current_performancerating = pd.to_numeric(row[\"Review 1\"]) + pd.to_numeric(row[\"Review 2\"])\n",
        "    current_escore = pd.to_numeric(row[\"Engagement 1\"]) + pd.to_numeric(row[\"Engagement 2\"])\n",
        "    current_effdate = row[\"Date of Joining\"]\n",
        "    current_endate = row[\"Date of Exit\"]\n",
        "\n",
        "    # Update the history columns with the current row's historical data\n",
        "    df.at[index, \"Compensation\"] = current_compensation\n",
        "    df.at[index, \"Last_Compensation\"] = current_lcompensation\n",
        "    df.at[index, \"Last_Pay_Raise_Date\"] = current_lpayrasiday\n",
        "    df.at[index, \"Performance_Rating\"] = current_performancerating\n",
        "    df.at[index, \"Engagement_Score\"] = current_escore\n",
        "    df.at[index, \"Effective_Date\"] = current_effdate\n",
        "    df.at[index, \"End_Date\"] = current_endate\n",
        "\n"
      ]
    },
    {
      "cell_type": "code",
      "source": [
        "\n",
        "\n",
        "def ensure_no_overlap(df):\n",
        "\n",
        "    for index in range(len(df)):\n",
        "        if index == len(df) - 1:\n",
        "            # Set a far-future date for the last employee\n",
        "            df.at[index, \"End_Date\"] = \"2100-01-01\"\n",
        "        else:\n",
        "            next_effdate = pd.to_datetime(df.at[index + 1, \"Effective_Date\"])\n",
        "            df.at[index, \"End_Date\"] = (next_effdate - pd.DateOffset(days=1)).strftime(\"%Y-%m-%d\")\n",
        "\n",
        "    return df\n",
        "\n",
        "# Apply the function to ensure no overlap and assign far-future date\n",
        "df = ensure_no_overlap(df)\n",
        "\n",
        "# Display the DataFrame\n",
        "print(df[['Effective_Date', 'End_Date']])\n"
      ],
      "metadata": {
        "colab": {
          "base_uri": "https://localhost:8080/"
        },
        "id": "HlpyFa8SFS53",
        "outputId": "dc347c6e-3678-47b5-d5be-87a5ee85348d"
      },
      "execution_count": 3,
      "outputs": [
        {
          "output_type": "stream",
          "name": "stdout",
          "text": [
            "  Effective_Date    End_Date\n",
            "0     2021-01-01  2020-12-31\n",
            "1     2021-01-01  2020-12-31\n",
            "2     2021-01-01  2100-01-01\n"
          ]
        }
      ]
    },
    {
      "cell_type": "code",
      "source": [
        "print(df)"
      ],
      "metadata": {
        "colab": {
          "base_uri": "https://localhost:8080/"
        },
        "id": "YrmdN7_z1Qbo",
        "outputId": "5347f4aa-0348-4a14-a428-822987b74074"
      },
      "execution_count": 4,
      "outputs": [
        {
          "output_type": "stream",
          "name": "stdout",
          "text": [
            "   Employee Code  Manager Employee Code Date of Joining Date of Exit  \\\n",
            "0              1                    NaN      2021-01-01          NaN   \n",
            "1              2                    1.0      2021-01-01          NaN   \n",
            "2              3                    1.0      2021-01-01   2023-12-31   \n",
            "\n",
            "   Compensation  Compensation 1 Compensation 1 date  Compensation 2  \\\n",
            "0         20000             NaN                 NaN             NaN   \n",
            "1         20000         10000.0          2022-01-01         20000.0   \n",
            "2         20000         10000.0          2022-01-01         20000.0   \n",
            "\n",
            "  Compensation 2 date  Review 1  ... Engagement 2  Engagement 2 date  \\\n",
            "0                 NaN       NaN  ...          NaN                NaN   \n",
            "1          2023-01-01       9.0  ...          5.0         2022-03-01   \n",
            "2          2023-01-01       9.0  ...          5.0         2022-03-01   \n",
            "\n",
            "  Last_Compensation  Last_Pay_Raise_Date Variable_Pay  Tenure_in_Org  \\\n",
            "0               NaN                  NaN                               \n",
            "1           20000.0           2023-01-01                               \n",
            "2           20000.0           2023-01-01                               \n",
            "\n",
            "  Performance_Rating Engagement_Score Effective_Date    End_Date  \n",
            "0                NaN              NaN     2021-01-01  2020-12-31  \n",
            "1               18.5              9.0     2021-01-01  2020-12-31  \n",
            "2               18.5              9.0     2021-01-01  2100-01-01  \n",
            "\n",
            "[3 rows x 25 columns]\n"
          ]
        }
      ]
    },
    {
      "cell_type": "code",
      "source": [
        "# Drop unnecessary columns\n",
        "df.drop(df.columns[[3, 4, 6, 7, 8, 9, 10, 11, 12, 13, 14, 15, 16, 17]], axis=1, inplace=True)\n",
        "\n",
        "# Get the values as a NumPy array\n",
        "df_values = df.values\n",
        "\n",
        "# Iterate over the rows and print each row without keys and brackets\n",
        "for row in df_values:\n",
        "    print(' '.join(map(str, row)))\n"
      ],
      "metadata": {
        "colab": {
          "base_uri": "https://localhost:8080/"
        },
        "id": "YzdC8KC6zmns",
        "outputId": "9e326ce9-af83-49e4-821b-6d5cd4c47f59"
      },
      "execution_count": 5,
      "outputs": [
        {
          "output_type": "stream",
          "name": "stdout",
          "text": [
            "1 nan 2021-01-01 nan nan   nan nan 2021-01-01 2020-12-31\n",
            "2 1.0 2021-01-01 10000.0 2023-01-01   18.5 9.0 2021-01-01 2020-12-31\n",
            "3 1.0 2021-01-01 10000.0 2023-01-01   18.5 9.0 2021-01-01 2100-01-01\n"
          ]
        }
      ]
    },
    {
      "cell_type": "code",
      "source": [
        "print(df)"
      ],
      "metadata": {
        "colab": {
          "base_uri": "https://localhost:8080/"
        },
        "id": "zjm4UfcWwn5i",
        "outputId": "6beeaf24-2411-4d18-acae-9ffc8114b8d6"
      },
      "execution_count": 6,
      "outputs": [
        {
          "output_type": "stream",
          "name": "stdout",
          "text": [
            "   Employee Code  Manager Employee Code Date of Joining  Compensation 1  \\\n",
            "0              1                    NaN      2021-01-01             NaN   \n",
            "1              2                    1.0      2021-01-01         10000.0   \n",
            "2              3                    1.0      2021-01-01         10000.0   \n",
            "\n",
            "  Last_Pay_Raise_Date Variable_Pay Tenure_in_Org Performance_Rating  \\\n",
            "0                 NaN                                           NaN   \n",
            "1          2023-01-01                                          18.5   \n",
            "2          2023-01-01                                          18.5   \n",
            "\n",
            "  Engagement_Score Effective_Date    End_Date  \n",
            "0              NaN     2021-01-01  2020-12-31  \n",
            "1              9.0     2021-01-01  2020-12-31  \n",
            "2              9.0     2021-01-01  2100-01-01  \n"
          ]
        }
      ]
    },
    {
      "cell_type": "code",
      "source": [
        "df.to_csv(\"output.csv\", index=False)"
      ],
      "metadata": {
        "id": "yqW1ot7Bw08O"
      },
      "execution_count": 7,
      "outputs": []
    }
  ]
}